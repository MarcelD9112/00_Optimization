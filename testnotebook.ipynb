{
 "cells": [
  {
   "cell_type": "code",
   "execution_count": null,
   "metadata": {},
   "outputs": [],
   "source": [
    "import streamlit as st\n",
    "import pandas as pd\n",
    "import plotly.express as px\n",
    "\n",
    "# Title and File Upload\n",
    "st.title(\"Dynamic Data Visualization Dashboard\")\n",
    "st.write(\"Upload an Excel file to dynamically visualize your data.\")\n",
    "\n",
    "# Upload Excel file\n",
    "uploaded_file = st.file_uploader(\"Upload your Excel file\", type=[\"xlsx\", \"xls\"])\n",
    "if uploaded_file:\n",
    "    try:\n",
    "        # Load the data\n",
    "        df = pd.read_excel(uploaded_file)\n",
    "        st.write(\"### Data Preview\")\n",
    "        st.dataframe(df)\n",
    "\n",
    "        # Visualization options\n",
    "        st.write(\"### Visualization Options\")\n",
    "        chart_type = st.selectbox(\"Select Chart Type\", [\"Bar\", \"Line\", \"Scatter\", \"Pie\"])\n",
    "        x_axis = st.selectbox(\"Select X-axis\", df.columns)\n",
    "        y_axis = st.selectbox(\"Select Y-axis\", df.columns if chart_type != \"Pie\" else [\"None\"])\n",
    "\n",
    "        # Generate chart based on user selection\n",
    "        st.write(\"### Generated Chart\")\n",
    "        if chart_type == \"Bar\":\n",
    "            fig = px.bar(df, x=x_axis, y=y_axis, title=\"Bar Chart\")\n",
    "        elif chart_type == \"Line\":\n",
    "            fig = px.line(df, x=x_axis, y=y_axis, title=\"Line Chart\")\n",
    "        elif chart_type == \"Scatter\":\n",
    "            fig = px.scatter(df, x=x_axis, y=y_axis, title=\"Scatter Plot\")\n",
    "        elif chart_type == \"Pie\":\n",
    "            fig = px.pie(df, names=x_axis, title=\"Pie Chart\")\n",
    "\n",
    "        st.plotly_chart(fig)\n",
    "\n",
    "    except Exception as e:\n",
    "        st.error(f\"Error loading file: {e}\")\n",
    "\n",
    "else:\n",
    "    st.write(\"Upload an Excel file to get started.\")\n"
   ]
  }
 ],
 "metadata": {
  "kernelspec": {
   "display_name": "base",
   "language": "python",
   "name": "python3"
  },
  "language_info": {
   "name": "python",
   "version": "3.8.13"
  }
 },
 "nbformat": 4,
 "nbformat_minor": 2
}
